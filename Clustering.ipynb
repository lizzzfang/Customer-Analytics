{
 "cells": [
  {
   "cell_type": "code",
   "execution_count": 2,
   "metadata": {},
   "outputs": [],
   "source": [
    "import pandas as pd\n",
    "import numpy as np\n",
    "import math\n",
    "import random\n",
    "from sklearn import preprocessing\n",
    "from sklearn.decomposition import PCA\n",
    "from sklearn.cluster import KMeans\n",
    "from sklearn.metrics import silhouette_score\n",
    "from kmodes.kprototypes import KPrototypes\n",
    "import matplotlib.pyplot as plt\n",
    "from tqdm import tqdm"
   ]
  },
  {
   "cell_type": "code",
   "execution_count": 3,
   "metadata": {},
   "outputs": [],
   "source": [
    "df = pd.read_csv('data/RFM.csv')\n",
    "# needed columns for the model input\n",
    "continuous_cols = ['frequency', 'recency', 'T']\n",
    "categorical_cols = ['Country']\n",
    "\n",
    "# if no columns are specified, auto select features\n",
    "if continuous_cols == None: \n",
    "    continuous_cols = df.select_dtypes(np.number).columns\n",
    "if categorical_cols == None:\n",
    "    categorical_cols = df.select_dtypes(object).columns"
   ]
  },
  {
   "cell_type": "markdown",
   "metadata": {},
   "source": [
    "## 1. Prepare Data"
   ]
  },
  {
   "cell_type": "code",
   "execution_count": 4,
   "metadata": {},
   "outputs": [
    {
     "data": {
      "text/plain": [
       "array([[-0.30780845,  0.98874414,  0.81299415],\n",
       "       [-0.30780845,  0.98874414,  0.81299415],\n",
       "       [-0.30780845,  0.98874414,  0.81299415],\n",
       "       ...,\n",
       "       [-0.46224674, -0.64133065, -0.75162267],\n",
       "       [-0.46224674, -0.64133065, -0.75162267],\n",
       "       [-0.46224674, -0.64133065, -0.75162267]])"
      ]
     },
     "execution_count": 4,
     "metadata": {},
     "output_type": "execute_result"
    }
   ],
   "source": [
    "# standardisation\n",
    "x_1 = preprocessing.scale(df[continuous_cols]) # x_1 is an Array \n",
    "x_1"
   ]
  },
  {
   "cell_type": "code",
   "execution_count": 5,
   "metadata": {},
   "outputs": [
    {
     "data": {
      "text/html": [
       "<div>\n",
       "<style scoped>\n",
       "    .dataframe tbody tr th:only-of-type {\n",
       "        vertical-align: middle;\n",
       "    }\n",
       "\n",
       "    .dataframe tbody tr th {\n",
       "        vertical-align: top;\n",
       "    }\n",
       "\n",
       "    .dataframe thead th {\n",
       "        text-align: right;\n",
       "    }\n",
       "</style>\n",
       "<table border=\"1\" class=\"dataframe\">\n",
       "  <thead>\n",
       "    <tr style=\"text-align: right;\">\n",
       "      <th></th>\n",
       "      <th>frequency</th>\n",
       "      <th>recency</th>\n",
       "      <th>T</th>\n",
       "      <th>Country</th>\n",
       "    </tr>\n",
       "  </thead>\n",
       "  <tbody>\n",
       "    <tr>\n",
       "      <th>0</th>\n",
       "      <td>-0.307808</td>\n",
       "      <td>0.988744</td>\n",
       "      <td>0.812994</td>\n",
       "      <td>Iceland</td>\n",
       "    </tr>\n",
       "    <tr>\n",
       "      <th>1</th>\n",
       "      <td>-0.307808</td>\n",
       "      <td>0.988744</td>\n",
       "      <td>0.812994</td>\n",
       "      <td>Iceland</td>\n",
       "    </tr>\n",
       "    <tr>\n",
       "      <th>2</th>\n",
       "      <td>-0.307808</td>\n",
       "      <td>0.988744</td>\n",
       "      <td>0.812994</td>\n",
       "      <td>Iceland</td>\n",
       "    </tr>\n",
       "    <tr>\n",
       "      <th>3</th>\n",
       "      <td>-0.307808</td>\n",
       "      <td>0.988744</td>\n",
       "      <td>0.812994</td>\n",
       "      <td>Iceland</td>\n",
       "    </tr>\n",
       "    <tr>\n",
       "      <th>4</th>\n",
       "      <td>-0.307808</td>\n",
       "      <td>0.988744</td>\n",
       "      <td>0.812994</td>\n",
       "      <td>Iceland</td>\n",
       "    </tr>\n",
       "  </tbody>\n",
       "</table>\n",
       "</div>"
      ],
      "text/plain": [
       "   frequency   recency         T  Country\n",
       "0  -0.307808  0.988744  0.812994  Iceland\n",
       "1  -0.307808  0.988744  0.812994  Iceland\n",
       "2  -0.307808  0.988744  0.812994  Iceland\n",
       "3  -0.307808  0.988744  0.812994  Iceland\n",
       "4  -0.307808  0.988744  0.812994  Iceland"
      ]
     },
     "execution_count": 5,
     "metadata": {},
     "output_type": "execute_result"
    }
   ],
   "source": [
    "# contruct a dataframe for clustering models\n",
    "model_input = pd.concat([pd.DataFrame(x_1, columns=continuous_cols), df[categorical_cols]], axis=1)\n",
    "model_input.head()"
   ]
  },
  {
   "cell_type": "markdown",
   "metadata": {},
   "source": [
    "### 1.1 Reservoir Sampling\n",
    "\n",
    "Because the dataset is too big for modelling. Using an unbiased sample data to train models would be ideal.\n",
    "\n",
    "Simple random sample without replacement of k items from a population of unknown size n in a single pass over the items.\n",
    "\n",
    "Reference: [The 5 Sampling Algorithms every Data Scientist need to know](https://towardsdatascience.com/the-5-sampling-algorithms-every-data-scientist-need-to-know-43c7bc11d17c)"
   ]
  },
  {
   "cell_type": "code",
   "execution_count": 6,
   "metadata": {},
   "outputs": [],
   "source": [
    "# Training data size\n",
    "k = 10000\n",
    "# Sample size\n",
    "n = len(df)-1\n",
    "def rs(k, n):\n",
    "    def generator(max):\n",
    "        number = 1\n",
    "        while number < max:\n",
    "            number += 1\n",
    "            yield number\n",
    "    # Create as stream generator\n",
    "    stream = generator(n)\n",
    "    # Doing Reservoir Sampling from the stream\n",
    "    reservoir = []\n",
    "    for i, element in enumerate(stream):\n",
    "        if i+1<= k:\n",
    "            reservoir.append(element)\n",
    "        else:\n",
    "            probability = k/(i+1)\n",
    "            if random.random() < probability:\n",
    "                # Select item in stream and remove one of the k items already selected\n",
    "                 reservoir[random.choice(range(0,k))] = element\n",
    "    return reservoir\n",
    "# Return a list of index of the training dataset\n",
    "reservoir = rs(k, n)"
   ]
  },
  {
   "cell_type": "markdown",
   "metadata": {},
   "source": [
    "### 1.2  Feature Selection (PCA)\n",
    "If there are many features in the input dataset, it is best to define the desired number of features."
   ]
  },
  {
   "cell_type": "code",
   "execution_count": 7,
   "metadata": {},
   "outputs": [
    {
     "data": {
      "text/html": [
       "<div>\n",
       "<style scoped>\n",
       "    .dataframe tbody tr th:only-of-type {\n",
       "        vertical-align: middle;\n",
       "    }\n",
       "\n",
       "    .dataframe tbody tr th {\n",
       "        vertical-align: top;\n",
       "    }\n",
       "\n",
       "    .dataframe thead th {\n",
       "        text-align: right;\n",
       "    }\n",
       "</style>\n",
       "<table border=\"1\" class=\"dataframe\">\n",
       "  <thead>\n",
       "    <tr style=\"text-align: right;\">\n",
       "      <th></th>\n",
       "      <th>0</th>\n",
       "      <th>1</th>\n",
       "    </tr>\n",
       "  </thead>\n",
       "  <tbody>\n",
       "    <tr>\n",
       "      <th>0</th>\n",
       "      <td>PC0</td>\n",
       "      <td>recency</td>\n",
       "    </tr>\n",
       "    <tr>\n",
       "      <th>1</th>\n",
       "      <td>PC1</td>\n",
       "      <td>frequency</td>\n",
       "    </tr>\n",
       "  </tbody>\n",
       "</table>\n",
       "</div>"
      ],
      "text/plain": [
       "     0          1\n",
       "0  PC0    recency\n",
       "1  PC1  frequency"
      ]
     },
     "execution_count": 7,
     "metadata": {},
     "output_type": "execute_result"
    }
   ],
   "source": [
    "# Linear dimensionality reduction from n features to n-1 features\n",
    "num_features = len(continuous_cols)-1\n",
    "pca = PCA(n_components=num_features)\n",
    "pca.fit(x_1)\n",
    "# X_pc = model.transform(x_1) # Apply dimensionality reduction to x_1\n",
    "\n",
    "# number of components\n",
    "n_pcs= pca.components_.shape[0]\n",
    "\n",
    "# get the index of the most important feature on EACH component\n",
    "# LIST COMPREHENSION HERE\n",
    "most_important = [np.abs(pca.components_[i]).argmax() for i in range(n_pcs)]\n",
    "\n",
    "# get the names\n",
    "most_important_names = [continuous_cols[most_important[i]] for i in range(n_pcs)]\n",
    "\n",
    "# LIST COMPREHENSION HERE AGAIN\n",
    "dic = {'PC{}'.format(i): most_important_names[i] for i in range(n_pcs)}\n",
    "\n",
    "# build the dataframe\n",
    "a = pd.DataFrame(dic.items())\n",
    "a"
   ]
  },
  {
   "cell_type": "markdown",
   "metadata": {},
   "source": [
    "## 2. Modelling"
   ]
  },
  {
   "cell_type": "markdown",
   "metadata": {},
   "source": [
    "### 2.1 K-Means\n",
    "Partition n observations into k clusters in which each observation belongs to the cluster with the nearest mean,\n",
    "####      Parameters\n",
    " -      ----------\n",
    " - **n_clusters**: (int) The number of clusters to form as well as the number of centroids to generate.\n",
    " - **n_init**: (int) Number of time the k-means algorithm will be run with different centroid seeds. The final results will be the best output of n_init consecutive runs in terms of inertia.\n",
    " - **max_iter**: (int) Maximum number of iterations of the k-means algorithm for a single run.\n",
    " - **precompute_distances**: (bool) faster but takes more memory\n",
    " - **n_jobs**: The number of jobs to use for the computation. This works by computing each of the n_init runs in parallel.\n",
    " -1 means using all processors"
   ]
  },
  {
   "cell_type": "markdown",
   "metadata": {},
   "source": [
    "#### 2.1.1 Running K-Means with different number of clusters"
   ]
  },
  {
   "cell_type": "code",
   "execution_count": 8,
   "metadata": {},
   "outputs": [
    {
     "name": "stderr",
     "output_type": "stream",
     "text": [
      "100%|██████████████████████████████████████████████████████████████████████████████████| 29/29 [02:22<00:00,  4.92s/it]\n"
     ]
    }
   ],
   "source": [
    "n_clusters = 30\n",
    "distorsions = []\n",
    "silhouette = []\n",
    "clusters = list(range(2, n_clusters+1))\n",
    "for i in tqdm(clusters):\n",
    "    km = KMeans(n_clusters=i, init='k-means++', n_init=10)\n",
    "    km.fit(x_1[reservoir])\n",
    "    distorsions.append(km.inertia_)\n",
    "    silhouette.append(silhouette_score(x_1[reservoir], km.labels_))"
   ]
  },
  {
   "cell_type": "code",
   "execution_count": 10,
   "metadata": {},
   "outputs": [
    {
     "data": {
      "text/plain": [
       "KMeans(algorithm='auto', copy_x=True, init='k-means++', max_iter=300,\n",
       "       n_clusters=30, n_init=10, n_jobs=None, precompute_distances='auto',\n",
       "       random_state=None, tol=0.0001, verbose=0)"
      ]
     },
     "execution_count": 10,
     "metadata": {},
     "output_type": "execute_result"
    }
   ],
   "source": [
    "# parameters check\n",
    "km"
   ]
  },
  {
   "cell_type": "markdown",
   "metadata": {},
   "source": [
    "#### 2.1.2 Finding the optimal number of clusters\n",
    "<img src=\"reference/select_optimal_clusters.jpg\" style=\"float:left\" width=600>"
   ]
  },
  {
   "cell_type": "code",
   "execution_count": 12,
   "metadata": {},
   "outputs": [],
   "source": [
    "np.warnings.filterwarnings('ignore')\n",
    "def distance_to_line(x1, y1, a, c):  \n",
    "    b = -1   \n",
    "    d = abs((a * x1 + b * y1 + c)) / (math.sqrt(a * a + b * b)) \n",
    "    # print(\"Perpendicular distance is\",d)\n",
    "    return d\n",
    "\n",
    "# calculate the parameters of the line\n",
    "l = len(distorsions)\n",
    "points = [(2, distorsions[0]), (l+1, distorsions[l-1])]\n",
    "x_coords, y_coords = zip(*points)\n",
    "A = np.vstack([x_coords, np.ones(len(x_coords))]).T\n",
    "slope, intercept = np.linalg.lstsq(A, y_coords)[0]\n",
    "\n",
    "# distance to the line\n",
    "wcss = []\n",
    "for i in range(0, l):\n",
    "    p1 = i + 2\n",
    "    p2 = distorsions[i]\n",
    "    wcss.append(round(distance_to_line(p1, p2, slope, intercept)))\n",
    "\n",
    "# get the optimal number of clusters\n",
    "m = max(wcss)\n",
    "idx = [i for i, j in enumerate(wcss) if j == m]\n",
    "idx_distortions = [i+2 for i, j in enumerate(wcss) if j == m]"
   ]
  },
  {
   "cell_type": "markdown",
   "metadata": {},
   "source": [
    "#### 2.1.3 Visualisation (Elbow Method)"
   ]
  },
  {
   "cell_type": "code",
   "execution_count": 13,
   "metadata": {},
   "outputs": [
    {
     "data": {
      "image/png": "[encoded data removed]",
      "text/plain": [
       "<Figure size 864x360 with 2 Axes>"
      ]
     },
     "metadata": {
      "needs_background": "light"
     },
     "output_type": "display_data"
    }
   ],
   "source": [
    "import numpy as np\n",
    "import matplotlib.pyplot as plt\n",
    "\n",
    "fig, ax1 = plt.subplots(figsize=(12, 5))\n",
    "\n",
    "color = 'tab:blue'\n",
    "ax1.set_xlabel('Number of Clusters')\n",
    "ax1.set_ylabel('Sum of Squares', color=color)\n",
    "ax1.plot(clusters, distorsions, marker='x', color=color)\n",
    "for i in idx:\n",
    "    ax1.plot(clusters[i], distorsions[i], 'g*')\n",
    "    ax1.text(clusters[i], distorsions[i], clusters[i], fontsize=12)\n",
    "ax1.tick_params(axis='y', labelcolor=color)\n",
    "\n",
    "ax2 = ax1.twinx()  # instantiate a second axes that shares the same x-axis\n",
    "\n",
    "color = 'tab:red'\n",
    "ax2.set_ylabel('silhouette', color=color)  # we already handled the x-label with ax1\n",
    "ax2.plot(clusters, silhouette, marker='o', linestyle=':', color=color)\n",
    "ax2.tick_params(axis='y', labelcolor=color)\n",
    "\n",
    "\n",
    "fig.tight_layout()  # otherwise the right y-label is slightly clipped\n",
    "plt.show()"
   ]
  },
  {
   "cell_type": "markdown",
   "metadata": {},
   "source": [
    "### 2.2 Run K-means model with the optimal cluster\n",
    "Generate predictions for 3.1"
   ]
  },
  {
   "cell_type": "code",
   "execution_count": 14,
   "metadata": {},
   "outputs": [
    {
     "name": "stdout",
     "output_type": "stream",
     "text": [
      "Please enter the number of clusters: 7\n"
     ]
    }
   ],
   "source": [
    "num_cluster = int(input(\"Please enter the number of clusters: \"))\n",
    "# num_cluster = 7\n",
    "km = KMeans(n_clusters=num_cluster, init='k-means++', n_init=10)\n",
    "km.fit(x_1[reservoir])\n",
    "y_train = km.predict(x_1[reservoir])"
   ]
  },
  {
   "cell_type": "markdown",
   "metadata": {},
   "source": [
    "## 3 Modelling with Categorical Variables\n",
    "### 3.1 Feature Selection (Chi-Squared)\n",
    "Doing feature selection on categorical variales for K-Prototypes models. Having results from the k-means model (trained by numerical variables), Pearson’s chi-squared statistical hypothesis test gives us the importance scores of categorical factors with k-means clusters."
   ]
  },
  {
   "cell_type": "code",
   "execution_count": 15,
   "metadata": {},
   "outputs": [],
   "source": [
    "from sklearn.feature_selection import SelectKBest\n",
    "from sklearn.feature_selection import chi2\n",
    "# prepare input data\n",
    "def prepare_inputs(X_train):\n",
    "    oe = preprocessing.OrdinalEncoder()\n",
    "    oe.fit(X_train)\n",
    "    X_train_enc = oe.transform(X_train)\n",
    "    return X_train_enc\n",
    "# feature selection\n",
    "def select_features(X_train, y_train):\n",
    "    fs = SelectKBest(score_func=chi2, k='all')\n",
    "    fs.fit(X_train, y_train)\n",
    "    X_train_fs = fs.transform(X_train)\n",
    "    return X_train_fs, fs\n",
    "# A sample of categorical data frame\n",
    "x_cat = model_input.loc[reservoir][categorical_cols]\n",
    "x_cat.head()\n",
    "# transform to string to number with the ordinal encoder\n",
    "X_train = prepare_inputs(x_cat.values)\n",
    "# run the Chi-Squared test\n",
    "X_train_fs, fs = select_features(X_train, y_train)"
   ]
  },
  {
   "cell_type": "code",
   "execution_count": 16,
   "metadata": {},
   "outputs": [
    {
     "name": "stdout",
     "output_type": "stream",
     "text": [
      "Feature \"Country\": 355.314250\n"
     ]
    },
    {
     "data": {
      "image/png": "[encoded data removed]",
      "text/plain": [
       "<Figure size 432x288 with 1 Axes>"
      ]
     },
     "metadata": {
      "needs_background": "light"
     },
     "output_type": "display_data"
    }
   ],
   "source": [
    "# output what are scores for the features (largest is better)\n",
    "for i in range(len(fs.scores_)):\n",
    "    print('Feature \"%s\": %f' % (x_cat.columns[i], fs.scores_[i]))\n",
    "plt.bar(x_cat.columns, fs.scores_)\n",
    "plt.show()"
   ]
  },
  {
   "cell_type": "markdown",
   "metadata": {},
   "source": [
    "### 3.2 K-Prototypes\n",
    "####      Parameters\n",
    " -      ----------\n",
    " -      **X** : array-like, shape=[n_samples, n_features]\n",
    " -      **categorical** : Index of columns that contain categorical data\n",
    " -    **n_init** : int, default: 10. \n",
    "        Number of time the k-modes algorithm will be run with different\n",
    "        centroid seeds. \n",
    " -   **n_jobs** : int, default: 1.\n",
    "        The number of jobs to use for the computation. This works by computing\n",
    "        each of the n_init runs in parallel.\n",
    "        If -1 all CPUs are used. If 1 is given, no parallel computing code is\n",
    "        used at all, which is useful for debugging."
   ]
  },
  {
   "cell_type": "code",
   "execution_count": 17,
   "metadata": {},
   "outputs": [],
   "source": [
    "# Input training set\n",
    "train = model_input.iloc[reservoir]\n",
    "# Get the index of categorical columns\n",
    "idx_cat = [train.columns.get_loc(c) for c in categorical_cols if c in df]"
   ]
  },
  {
   "cell_type": "markdown",
   "metadata": {},
   "source": [
    "#### 3.2.1 Running K-Prototypes with different number of clusters"
   ]
  },
  {
   "cell_type": "code",
   "execution_count": 24,
   "metadata": {},
   "outputs": [
    {
     "name": "stderr",
     "output_type": "stream",
     "text": [
      "100%|████████████████████████████████████████████████████████████████████████████████████| 9/9 [06:35<00:00, 43.95s/it]"
     ]
    },
    {
     "name": "stdout",
     "output_type": "stream",
     "text": [
      "Wall time: 6min 35s\n"
     ]
    },
    {
     "name": "stderr",
     "output_type": "stream",
     "text": [
      "\n"
     ]
    }
   ],
   "source": [
    "%%time\n",
    "n_clusters = 10\n",
    "cost = []\n",
    "clusters_kp = list(range(2, n_clusters+1))\n",
    "for i in tqdm(clusters_kp):\n",
    "    kproto = KPrototypes(n_clusters=i, init='Huang', n_init=5, random_state=np.random.seed(42), n_jobs=-1)\n",
    "    kproto.fit(train, categorical=idx_cat)\n",
    "    cost.append(kproto.cost_)"
   ]
  },
  {
   "cell_type": "markdown",
   "metadata": {},
   "source": [
    "#### 3.2.2 Visualisation (Elbow Method)"
   ]
  },
  {
   "cell_type": "code",
   "execution_count": 25,
   "metadata": {},
   "outputs": [
    {
     "data": {
      "text/plain": [
       "Text(0.5, 1.0, 'Elbow Curve')"
      ]
     },
     "execution_count": 25,
     "metadata": {},
     "output_type": "execute_result"
    },
    {
     "data": {
      "image/png": "[encoded data removed]",
      "text/plain": [
       "<Figure size 864x360 with 1 Axes>"
      ]
     },
     "metadata": {
      "needs_background": "light"
     },
     "output_type": "display_data"
    }
   ],
   "source": [
    "%matplotlib inline\n",
    "fig, ax = plt.subplots(figsize=(12, 5))\n",
    "\n",
    "ax.plot(clusters_kp, cost, marker='x')\n",
    "ax.set_xlabel('Number of Clusters')\n",
    "ax.set_ylabel('Cost')\n",
    "\n",
    "ax.grid(True)\n",
    "plt.title('Elbow Curve')"
   ]
  },
  {
   "cell_type": "markdown",
   "metadata": {},
   "source": [
    "#### 3.2.3 Run K-Prototypes model with the optimal cluster"
   ]
  },
  {
   "cell_type": "code",
   "execution_count": 26,
   "metadata": {},
   "outputs": [
    {
     "name": "stdout",
     "output_type": "stream",
     "text": [
      "Please enter the number of clusters: 7\n",
      "Wall time: 38.5 s\n"
     ]
    },
    {
     "data": {
      "text/plain": [
       "KPrototypes(cat_dissim=<function matching_dissim at 0x00000236894EAD90>,\n",
       "            gamma=0.49543035286477954, init='Huang', max_iter=100, n_clusters=7,\n",
       "            n_init=5, n_jobs=-1,\n",
       "            num_dissim=<function euclidean_dissim at 0x00000236894EAE18>,\n",
       "            random_state=None, verbose=0)"
      ]
     },
     "execution_count": 26,
     "metadata": {},
     "output_type": "execute_result"
    }
   ],
   "source": [
    "%%time\n",
    "#final model\n",
    "i = int(input(\"Please enter the number of clusters: \"))\n",
    "kprot_final = KPrototypes(n_clusters=i, init='Huang', n_init=5, random_state=np.random.seed(42), n_jobs=-1)\n",
    "kprot_final.fit(train, categorical=[len(continuous_cols)])  # train the model"
   ]
  },
  {
   "cell_type": "code",
   "execution_count": 27,
   "metadata": {},
   "outputs": [],
   "source": [
    "# Output the results\n",
    "a = kprot_final.predict(model_input, categorical=idx_cat) # make prediction using the whole dataset\n",
    "df['cluster'] = a"
   ]
  }
 ],
 "metadata": {
  "kernelspec": {
   "display_name": "Python 3",
   "language": "python",
   "name": "python3"
  },
  "language_info": {
   "codemirror_mode": {
    "name": "ipython",
    "version": 3
   },
   "file_extension": ".py",
   "mimetype": "text/x-python",
   "name": "python",
   "nbconvert_exporter": "python",
   "pygments_lexer": "ipython3",
   "version": "3.7.3"
  }
 },
 "nbformat": 4,
 "nbformat_minor": 4
}
